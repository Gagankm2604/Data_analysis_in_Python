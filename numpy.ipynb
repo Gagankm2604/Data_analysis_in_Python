{
 "cells": [
  {
   "cell_type": "markdown",
   "id": "77cdc967",
   "metadata": {},
   "source": [
    "Numpy - Data Analysis Library in Python\n",
    "\n",
    "\n",
    "NumPy is a fundamental package for scientific computing in Python. It provides support for large, multi-dimensional arrays and matrices, along with a collection of mathematical functions to operate on these arrays efficiently. NumPy is widely used for data analysis, numerical computations, and as a foundation for other scientific libraries such as pandas, SciPy, and scikit-learn.\n",
    "\n",
    "Key features of NumPy:\n",
    "\n",
    "Powerful N-dimensional array object (ndarray) ,\n",
    "\n",
    "Broadcasting functions for arithmetic operations ,\n",
    "\n",
    "Tools for integrating C, C++, and Fortran code ,\n",
    "\n",
    "Useful linear algebra, Fourier transform, and random number capabilities."
   ]
  },
  {
   "cell_type": "code",
   "execution_count": null,
   "id": "414131d7",
   "metadata": {},
   "outputs": [
    {
     "name": "stdout",
     "output_type": "stream",
     "text": [
      "[1 2 3 4 5]\n",
      "The type of the array is <class 'numpy.ndarray'>\n",
      "the shape of the array is (5,)\n"
     ]
    }
   ],
   "source": [
    "# Installing numpy package\n",
    "#  Run this command \n",
    "#  pip install numpy\n",
    "\n",
    "# Importing numpy package \n",
    "import numpy as np\n",
    "\n",
    "# creating a numpy array\n",
    "arr=np.array([1,2,3,4,5])\n",
    "print(arr)\n",
    "\n",
    "print(f\"The type of the array is {type(arr)}\") # checking the type of the numpy array\n",
    "\n",
    "# Checking the shape of the array\n",
    "print(f\"the shape of the array is {arr.shape}\")\n",
    "# >>>>>> this shape is a tuple that represent the dimension of the array\n",
    "#  for 1D array , it will be (n,) , where n is the number of elements in the array\n",
    "#  for 2D array , it will be (n,m) , where n is no of rows and m is no of columns\n",
    "\n",
    "\n"
   ]
  },
  {
   "cell_type": "markdown",
   "id": "06e4bdaf",
   "metadata": {},
   "source": [
    "Reshaping the Array \n",
    "\n",
    "Reshaping a NumPy array means changing its shape (i.e., the number of rows and columns) without changing its data. For example, you can convert a 1D array into a 2D array or vice versa, as long as the total number of elements remains the same."
   ]
  },
  {
   "cell_type": "code",
   "execution_count": 14,
   "id": "86a106bc",
   "metadata": {},
   "outputs": [
    {
     "name": "stdout",
     "output_type": "stream",
     "text": [
      "[[1 2 3 4]\n",
      " [5 6 7 8]]\n",
      "-------------------------------\n",
      "[[1 2 3]\n",
      " [4 5 6]]\n",
      "\n",
      "The shape of 2D array is (2, 3)\n",
      "\n",
      "[[1 2]\n",
      " [3 4]\n",
      " [5 6]]\n"
     ]
    }
   ],
   "source": [
    "#  Reshaping the array \n",
    "arr1=np.array([1,2,3,4,5,6,7,8])\n",
    "arr2=arr1.reshape(2,4)  # representing the array in 2 row and 4 columns\n",
    "print(arr2)\n",
    "\n",
    "print(\"-------------------------------\")\n",
    "\n",
    "# Creating 2D array \n",
    "arr3=np.array([[1,2,3,],[4,5,6]])\n",
    "print(arr3)\n",
    "print()\n",
    "\n",
    "#checking the shape of the 2D array\n",
    "print(f\"The shape of 2D array is {arr3.shape}\") # represents 2 rows and 3 columns\n",
    "print()\n",
    "#  Reshaping the 2D array\n",
    "arr4=arr3.reshape(3,2)\n",
    "print(arr4)\n"
   ]
  },
  {
   "cell_type": "markdown",
   "id": "69b7a4c6",
   "metadata": {},
   "source": [
    "Creating numpy arrays with some Built-in functions\n",
    "\n",
    "Here are some common built-in functions in NumPy for creating arrays:"
   ]
  },
  {
   "cell_type": "code",
   "execution_count": null,
   "id": "a0b62143",
   "metadata": {},
   "outputs": [],
   "source": [
    "# Creating arrays with some built-in NumPy functions\n",
    "zeros_arr = np.zeros((2, 3))        # Creating 2 D array filled with zeros\n",
    "ones_arr = np.ones((3, 2))          # creating 2D arrays filled with ones\n",
    "\n",
    "# Creating arrays with specific ranges and values\n",
    "arange_arr = np.arange(0, 10, 2)\n",
    "\n",
    "\n",
    "linspace_arr = np.linspace(0, 1, 5)  # creating an array with 5 evenly spaced values between o and 1\n",
    "eye_arr = np.eye(3)                  # creating identity matrix of size 3*3\n",
    "\n",
    "# Printing the arrays and their types\n",
    "print(\"zeros_arr:\\n\", zeros_arr)\n",
    "print(\"Type:\", type(zeros_arr), \"\\n\")\n",
    "\n",
    "print(\"ones_arr:\\n\", ones_arr)\n",
    "print(\"Type:\", type(ones_arr), \"\\n\")\n",
    "\n",
    "print(\"arange_arr:\\n\", arange_arr)\n",
    "print(\"Type:\", type(arange_arr), \"\\n\")\n",
    "\n",
    "print(\"linspace_arr:\\n\", linspace_arr)\n",
    "print(\"Type:\", type(linspace_arr), \"\\n\")\n",
    "\n",
    "print(\"eye_arr:\\n\", eye_arr)\n",
    "print(\"Type:\", type(eye_arr), \"\\n\")"
   ]
  },
  {
   "cell_type": "markdown",
   "id": "aebfec87",
   "metadata": {},
   "source": [
    "some functions of numpy "
   ]
  },
  {
   "cell_type": "code",
   "execution_count": 17,
   "id": "06bc02df",
   "metadata": {},
   "outputs": [
    {
     "name": "stdout",
     "output_type": "stream",
     "text": [
      "21\n",
      "3.5\n",
      "3.5\n",
      "1.707825127659933\n",
      "1\n",
      "6\n",
      "0\n",
      "5\n",
      "[1 2 3 4 5 6]\n",
      "[1 2 3 4 5 6]\n",
      "------------------------------\n",
      "[[ 7 10]\n",
      " [15 22]]\n",
      "[[1 3]\n",
      " [2 4]]\n",
      "[1 2 3 4 5 6 1 2 3 4 5 6]\n",
      "[[1 2 3]\n",
      " [4 5 6]]\n"
     ]
    }
   ],
   "source": [
    "# some functions of numpy\n",
    "\n",
    "# Here are some commonly used NumPy functions for data analysis:\n",
    "# These functions help perform statistical, mathematical, and structural operations efficiently on NumPy\n",
    "\n",
    "\n",
    "arr = np.array([1, 2, 3, 4, 5, 6])\n",
    "\n",
    "print(np.sum(arr))        # Sum of all elements\n",
    "print(np.mean(arr))       # Mean (average) of elements\n",
    "print(np.median(arr))     # Median value\n",
    "print(np.std(arr))        # Standard deviation\n",
    "print(np.min(arr))        # Minimum value\n",
    "print(np.max(arr))        # Maximum value\n",
    "print(np.argmin(arr))     # Index of minimum value\n",
    "print(np.argmax(arr))     # Index of maximum value\n",
    "print(np.sort(arr))       # Sorted array\n",
    "print(np.unique(arr))     # Unique elements\n",
    "\n",
    "\n",
    "\n",
    "print (\"------------------------------\")\n",
    "#  for 2D arrays\n",
    "mat = np.array([[1, 2], [3, 4]])\n",
    "print(np.dot(mat, mat))           # Dot product (matrix multiplication)\n",
    "print(np.transpose(mat))          # Transpose of the matrix\n",
    "print(np.concatenate([arr, arr])) # Concatenate arrays\n",
    "print(arr.reshape(2, 3)) "
   ]
  },
  {
   "cell_type": "markdown",
   "id": "09b76b0a",
   "metadata": {},
   "source": [
    "Vectorised Operations on Numpy Arrays \n",
    "\n",
    "\n",
    "Vectorized operations allow you to perform element-wise computations on entire NumPy arrays without the need for explicit loops. This makes your code more concise, readable, and efficient. For example, you can add, subtract, multiply, or divide arrays directly, and NumPy will apply the operation to each element automatically. Vectorized operations leverage low-level optimizations, resulting in faster execution compared to traditional Python loops."
   ]
  },
  {
   "cell_type": "code",
   "execution_count": null,
   "id": "d88f9df6",
   "metadata": {},
   "outputs": [],
   "source": [
    "# Vectorized Operations on NumPy Arrays\n",
    "\n",
    "# 1. Arithmetic Operations (element-wise)\n",
    "a = np.array([1, 2, 3])\n",
    "b = np.array([4, 5, 6])\n",
    "\n",
    "add = a + b           # Addition: array([5, 7, 9])\n",
    "sub = a - b           # Subtraction: array([-3, -3, -3])\n",
    "mul = a * b           # Multiplication: array([ 4, 10, 18])\n",
    "div = a / b           # Division: array([0.25, 0.4 , 0.5 ])\n",
    "exp = a ** 2          # Exponentiation: array([1, 4, 9])\n",
    "\n",
    "print(\"Addition:\", add)\n",
    "print(\"Subtraction:\", sub)\n",
    "print(\"Multiplication:\", mul)\n",
    "print(\"Division:\", div)\n",
    "print(\"Exponentiation:\", exp)\n",
    "\n",
    "# 2. Universal Functions (ufuncs)\n",
    "sqrt = np.sqrt(a)     # Square root: array([1.        , 1.41421356, 1.73205081])\n",
    "log = np.log(a)       # Natural log: array([0.        , 0.69314718, 1.09861229])\n",
    "sin = np.sin(a)       # Sine: array([0.84147098, 0.90929743, 0.14112001])\n",
    "\n",
    "print(\"Square root:\", sqrt)\n",
    "print(\"Natural log:\", log)\n",
    "print(\"Sine:\", sin)\n",
    "\n",
    "# 3. Comparison Operations (element-wise)\n",
    "comp = a > 2          # array([False, False,  True])\n",
    "eq = a == b           # array([False, False, False])\n",
    "\n",
    "print(\"Greater than 2:\", comp)\n",
    "print(\"Equal to b:\", eq)\n",
    "\n",
    "# 4. Aggregation Functions\n",
    "sum_a = a.sum()       # Sum: 6\n",
    "mean_a = a.mean()     # Mean: 2.0\n",
    "max_a = a.max()       # Max: 3\n",
    "min_a = a.min()       # Min: 1\n",
    "\n",
    "print(\"Sum:\", sum_a)\n",
    "print(\"Mean:\", mean_a)\n",
    "print(\"Max:\", max_a)\n",
    "print(\"Min:\", min_a)\n",
    "\n",
    "# 5. Broadcasting\n",
    "c = np.array([[1], [2], [3]])\n",
    "d = np.array([4, 5, 6])\n",
    "broadcasted_add = c + d  # Shape (3,3): each row of c is added to d\n",
    "\n",
    "print(\"Broadcasted addition:\\n\", broadcasted_add)\n",
    "\n",
    "# 6. Logical Operations\n",
    "logical_and = np.logical_and(a > 1, b < 6)  # array([False,  True, False])\n",
    "logical_or = np.logical_or(a < 2, b > 5)    # array([ True, False,  True])\n",
    "\n",
    "print(\"Logical AND:\", logical_and)\n",
    "print(\"Logical OR:\", logical_or)\n",
    "\n",
    "# 7. In-place Operations\n",
    "a += 1  # a is now array([2, 3, 4])\n",
    "print(\"In-place addition:\", a)\n",
    "\n",
    "# Explanation:\n",
    "# - Vectorized operations allow you to perform computations on entire arrays without explicit loops.\n",
    "# - They are faster and more concise than looping through elements.\n",
    "# - NumPy uses optimized C code for these operations, making them efficient.\n",
    "# - Broadcasting lets you perform operations on arrays of different shapes by automatically expanding their dimensions.\n",
    "# - Universal functions (ufuncs) are functions that operate element-wise on arrays (e.g., np.sqrt, np.exp).\n",
    "# - Aggregation functions compute summary statistics (sum, mean, min, max, etc.).\n",
    "# - Logical and comparison operations return boolean arrays for filtering or conditional logic."
   ]
  },
  {
   "cell_type": "markdown",
   "id": "1b7d3a8c",
   "metadata": {},
   "source": [
    "Array slicing and Indexing"
   ]
  },
  {
   "cell_type": "code",
   "execution_count": null,
   "id": "89d4f621",
   "metadata": {
    "vscode": {
     "languageId": "julia"
    }
   },
   "outputs": [],
   "source": [
    "# Array Slicing and Indexing in NumPy\n",
    "\n",
    "# 1. Indexing\n",
    "arr = np.array([10, 20, 30, 40, 50])\n",
    "print(\"Element at index 0:\", arr[0])      # 10\n",
    "print(\"Element at last index:\", arr[-1])  # 50\n",
    "\n",
    "# 2. Slicing (1D array)\n",
    "print(\"Elements from index 1 to 3:\", arr[1:4])   # [20 30 40]\n",
    "print(\"Elements from start to index 2:\", arr[:3]) # [10 20 30]\n",
    "print(\"Elements from index 2 to end:\", arr[2:])   # [30 40 50]\n",
    "print(\"Every second element:\", arr[::2])          # [10 30 50]\n",
    "\n",
    "# 3. Indexing and Slicing (2D array)\n",
    "mat = np.array([[1, 2, 3], [4, 5, 6], [7, 8, 9]])\n",
    "print(\"Element at row 1, col 2:\", mat[1, 2])      # 6\n",
    "print(\"First row:\", mat[0])                       # [1 2 3]\n",
    "print(\"First column:\", mat[:, 0])                 # [1 4 7]\n",
    "print(\"Submatrix (rows 0-1, cols 1-2):\\n\", mat[0:2, 1:3])  # [[2 3], [5 6]]\n",
    "\n",
    "# 4. Boolean Indexing\n",
    "bool_idx = arr > 25\n",
    "print(\"Elements greater than 25:\", arr[bool_idx]) # [30 40 50]\n",
    "\n",
    "# 5. Fancy Indexing\n",
    "indices = [0, 2, 4]\n",
    "print(\"Elements at indices 0, 2, 4:\", arr[indices]) # [10 30 50]\n",
    "\n",
    "# 6. Modifying arrays using slicing\n",
    "arr[1:4] = 99\n",
    "print(\"Modified array:\", arr)  # [10 99 99 99 50]\n",
    "\n",
    "# Notes:\n",
    "# - Slicing creates a view, not a copy, so modifying the slice affects the original array.\n",
    "# - Use arr.copy() if you want a separate copy.\n",
    "# - Indexing and slicing work similarly for higher-dimensional arrays."
   ]
  }
 ],
 "metadata": {
  "kernelspec": {
   "display_name": "Python 3",
   "language": "python",
   "name": "python3"
  },
  "language_info": {
   "codemirror_mode": {
    "name": "ipython",
    "version": 3
   },
   "file_extension": ".py",
   "mimetype": "text/x-python",
   "name": "python",
   "nbconvert_exporter": "python",
   "pygments_lexer": "ipython3",
   "version": "3.12.1"
  }
 },
 "nbformat": 4,
 "nbformat_minor": 5
}
