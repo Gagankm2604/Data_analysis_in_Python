{
 "cells": [
  {
   "cell_type": "markdown",
   "id": "63d7a9c4",
   "metadata": {},
   "source": [
    "Pandas \n",
    "\n",
    "Pandas is a powerful open-source Python library used for data manipulation and analysis. It provides flexible data structures like Series (1D) and DataFrame (2D) that make it easy to clean, analyze, and visualize structured data efficiently. Pandas is widely used in data science, machine learning, and data analysis tasks.\n"
   ]
  },
  {
   "cell_type": "code",
   "execution_count": 3,
   "id": "3c88a367",
   "metadata": {},
   "outputs": [],
   "source": [
    "import pandas as pd  #import pandas for data manipulation\n",
    "\n"
   ]
  },
  {
   "cell_type": "markdown",
   "id": "f132d47a",
   "metadata": {},
   "source": [
    "Series \n",
    "\n",
    "A Series in pandas is a one-dimensional labeled array capable of holding any data type (integers, strings, floats, etc.). \n",
    "\n",
    "It is similar to a column in a spreadsheet or a database table. Each value in a Series has an associated label, called its index, which makes data selection and manipulation easy."
   ]
  },
  {
   "cell_type": "code",
   "execution_count": null,
   "id": "c5b3a994",
   "metadata": {},
   "outputs": [
    {
     "name": "stdout",
     "output_type": "stream",
     "text": [
      "0    1\n",
      "1    2\n",
      "2    3\n",
      "3    4\n",
      "4    5\n",
      "dtype: int64\n",
      "<class 'pandas.core.series.Series'>\n"
     ]
    }
   ],
   "source": [
    "#creating a series from a list\n",
    "\n",
    "import pandas as pd\n",
    "data=[1,2,3,4,5]\n",
    "s=pd.Series(data)\n",
    "print(s)\n",
    "print(type(s))  #checking the type of the series \n",
    "\n",
    "#The output will be a pandas series object with the values from the list and default integer index starting from 0\n"
   ]
  },
  {
   "cell_type": "code",
   "execution_count": null,
   "id": "591651c0",
   "metadata": {},
   "outputs": [
    {
     "name": "stdout",
     "output_type": "stream",
     "text": [
      "a    1\n",
      "b    2\n",
      "c    3\n",
      "dtype: int64\n",
      "<class 'pandas.core.series.Series'>\n"
     ]
    }
   ],
   "source": [
    "# Creating a series from a dictionary\n",
    "\n",
    "import pandas as pd\n",
    "data_dict={ 'a':1,\n",
    "            'b':2,\n",
    "            'c':3\n",
    "            }\n",
    "\n",
    "s_dict=pd.Series(data_dict)\n",
    "print(s_dict)\n",
    "print(type(s_dict))\n",
    "\n",
    "# The output will be a pandas series object with keys as index and values as the corresponding values from dictionary"
   ]
  },
  {
   "cell_type": "code",
   "execution_count": 11,
   "id": "d631933d",
   "metadata": {},
   "outputs": [
    {
     "name": "stdout",
     "output_type": "stream",
     "text": [
      "a    1\n",
      "b    2\n",
      "c    3\n",
      "dtype: int64\n"
     ]
    }
   ],
   "source": [
    "# Giving custom index to series \n",
    "\n",
    "data=[1,2,3]\n",
    "index=['a','b','c']\n",
    "s_custom=pd.Series(data,index=index) #giving custom index\n",
    "print(s_custom)"
   ]
  },
  {
   "cell_type": "markdown",
   "id": "5089f913",
   "metadata": {},
   "source": [
    "DATA FRAMES \n",
    "\n",
    "A DataFrame in pandas is a two-dimensional, size-mutable, and heterogeneous tabular data structure with labeled axes (rows and columns). It is similar to a spreadsheet or a SQL table. Each column in a DataFrame can have a different data type (integer, float, string, etc.).\n",
    "\n",
    "Key features of DataFrames:\n",
    "\n",
    "Labeled rows and columns for easy data selection and manipulation\n",
    "\n",
    "Can hold different data types in each column\n",
    "\n",
    "Supports operations like filtering, grouping, merging, and aggregation\n",
    "\n",
    "Easy to read/write data from various file formats (CSV, Excel, SQL, etc.)"
   ]
  },
  {
   "cell_type": "code",
   "execution_count": 12,
   "id": "0200bb2f",
   "metadata": {},
   "outputs": [
    {
     "name": "stdout",
     "output_type": "stream",
     "text": [
      "    Name  Age      city\n",
      "0  Gagan   18  Banglore\n",
      "1  Krish   32  Gurugram\n",
      "2   Ravi   45    Mysuru\n",
      "<class 'pandas.core.frame.DataFrame'>\n"
     ]
    }
   ],
   "source": [
    "#Creating Data frame from a dictionary\n",
    "dict_data={\n",
    "    'Name':['Gagan','Krish','Ravi'],\n",
    "    'Age' :[18,32,45],\n",
    "    'city':['Banglore','Gurugram','Mysuru']\n",
    "}\n",
    "\n",
    "df=pd.DataFrame(dict_data)\n",
    "print(df)\n",
    "print(type(df))"
   ]
  },
  {
   "cell_type": "code",
   "execution_count": 13,
   "id": "e5f48cd6",
   "metadata": {},
   "outputs": [
    {
     "name": "stdout",
     "output_type": "stream",
     "text": [
      "    Name  Age      city\n",
      "0  Gagan   18  Banglore\n",
      "1  Krish   32  Gurugram\n",
      "2   Ravi   45    Mysuru\n",
      "<class 'pandas.core.frame.DataFrame'>\n"
     ]
    }
   ],
   "source": [
    "#  Creating Dataframe from numpy arrays \n",
    "\n",
    "import numpy as np\n",
    "\n",
    "# Creating numpy arrays\n",
    "names = np.array(['Gagan', 'Krish', 'Ravi'])\n",
    "ages = np.array([18, 32, 45])\n",
    "cities = np.array(['Banglore', 'Gurugram', 'Mysuru'])\n",
    "\n",
    "# Creating a DataFrame from numpy arrays\n",
    "df_np = pd.DataFrame({\n",
    "    'Name': names,\n",
    "    'Age': ages,\n",
    "    'city': cities\n",
    "})\n",
    "\n",
    "print(df_np)\n",
    "print(type(df_np))"
   ]
  },
  {
   "cell_type": "code",
   "execution_count": 15,
   "id": "3abaa2cb",
   "metadata": {},
   "outputs": [
    {
     "name": "stdout",
     "output_type": "stream",
     "text": [
      "    Name  Age      city\n",
      "0  Gagan   18  Banglore\n",
      "1  Krish   32  Gurugram\n",
      "2   Ravi   45    Mysuru\n",
      "<class 'pandas.core.frame.DataFrame'>\n"
     ]
    }
   ],
   "source": [
    "# Creating the dataframe from a list of dictionaries\n",
    "\n",
    "list_data=[\n",
    "    {'Name':'Gagan','Age':18,'city':'Banglore'},\n",
    "    {'Name':'Krish','Age':32,'city':'Gurugram'},\n",
    "    {'Name':'Ravi','Age':45,'city':'Mysuru'}\n",
    "]\n",
    "\n",
    "df=pd.DataFrame(list_data)\n",
    "print(df)\n",
    "print(type(df))"
   ]
  },
  {
   "cell_type": "markdown",
   "id": "c692c5d7",
   "metadata": {},
   "source": [
    "Accessing data from Dataframe"
   ]
  },
  {
   "cell_type": "code",
   "execution_count": 22,
   "id": "4fbef7be",
   "metadata": {},
   "outputs": [
    {
     "name": "stdout",
     "output_type": "stream",
     "text": [
      "    Name  Age      city\n",
      "0  Gagan   18  Banglore\n",
      "1  Krish   32  Gurugram\n",
      "2   Ravi   45    Mysuru\n",
      "Accessing Name Column: \n",
      "\n",
      "0    Gagan\n",
      "1    Krish\n",
      "2     Ravi\n",
      "Name: Name, dtype: object\n",
      "Accessing Multiple Columns: \n",
      "    Name  Age\n",
      "0  Gagan   18\n",
      "1  Krish   32\n",
      "2   Ravi   45\n"
     ]
    }
   ],
   "source": [
    "# Accessing data from Dataframe\n",
    "print(df)\n",
    "\n",
    "#Accessing a single column\n",
    "print(\"Accessing Name Column: \\n\")\n",
    "print(df['Name']) #accessing Name column\n",
    "\n",
    "#Accessing multiple columns\n",
    "\n",
    "print(\"Accessing Multiple Columns: \")\n",
    "print(df[['Name','Age']])"
   ]
  },
  {
   "cell_type": "code",
   "execution_count": null,
   "id": "a9862839",
   "metadata": {},
   "outputs": [
    {
     "name": "stdout",
     "output_type": "stream",
     "text": [
      "Name       Gagan\n",
      "Age           18\n",
      "city    Banglore\n",
      "Name: 0, dtype: object\n",
      "Name       Krish\n",
      "Age           32\n",
      "city    Gurugram\n",
      "Name: 1, dtype: object\n",
      "    Name  Age      city\n",
      "0  Gagan   18  Banglore\n",
      "2   Ravi   45    Mysuru\n",
      "    Name  Age      city\n",
      "0  Gagan   18  Banglore\n",
      "1  Krish   32  Gurugram\n"
     ]
    }
   ],
   "source": [
    "#Accessing rows by index\n",
    "\n",
    "# Access a single row by index label using .loc\n",
    "print(df.loc[0])  # Row with index label 0\n",
    "\n",
    "# Access a single row by integer position using .iloc\n",
    "print(df.iloc[1])  # Second row (index 1)\n",
    "\n",
    "# Access multiple rows by index labels using .loc\n",
    "print(df.loc[[0, 2]])  # Rows with index labels 0 and 2\n",
    "\n",
    "# Access a range of rows by integer position using .iloc\n",
    "print(df.iloc[0:2])  # First two rows (index 0 and 1)\n",
    "\n",
    "\n",
    "# Difference between .loc and .iloc\n",
    "# .loc is label-based, which means you have to specify the name of the rows and columns that you want to filter out.\n",
    "# .iloc is integer position-based, so you have to specify rows and columns by their integer index.\n",
    "\n",
    "# Example:\n",
    "# df.loc[0] accesses the row with index label 0 (could be different if the index is custom).\n",
    "# df.iloc[0] always accesses the first row, regardless of the index label.\n",
    "\n",
    "\n"
   ]
  },
  {
   "cell_type": "code",
   "execution_count": null,
   "id": "0f0424cf",
   "metadata": {},
   "outputs": [
    {
     "name": "stdout",
     "output_type": "stream",
     "text": [
      "    Name  Age      city\n",
      "0  Gagan   18  Banglore\n",
      "1  Krish   32  Gurugram\n",
      "2   Ravi   45    Mysuru\n",
      "Krish\n",
      "45\n",
      "18\n"
     ]
    }
   ],
   "source": [
    "# Accessing Specific values in Dataframe using at and iat\n",
    "\n",
    "print(df)\n",
    "\n",
    "#Accessing a specific value using at\n",
    "print(df.at[1,'Name']) #Accessing the value in the second and 'Name' column\n",
    "\n",
    "print(df.at[2,'Age'])  #Accesing value in third row and 'Age'column\n",
    "\n",
    "\n",
    "#Accessing a specific value using iat\n",
    "print(df.iat[0,1]) #Accessing the value in first row and second column (Age)\n",
    "\n"
   ]
  },
  {
   "cell_type": "markdown",
   "id": "a8da39d5",
   "metadata": {},
   "source": [
    "Data Manipulation with pandas\n"
   ]
  },
  {
   "cell_type": "code",
   "execution_count": null,
   "id": "7ec925c5",
   "metadata": {},
   "outputs": [
    {
     "name": "stdout",
     "output_type": "stream",
     "text": [
      "['Age', 'Name', 'T', '_AXIS_LEN', '_AXIS_ORDERS', '_AXIS_TO_AXIS_NUMBER', '_HANDLED_TYPES', '__abs__', '__add__', '__and__', '__annotations__', '__array__', '__array_priority__', '__array_ufunc__', '__arrow_c_stream__', '__bool__', '__class__', '__contains__', '__copy__', '__dataframe__', '__dataframe_consortium_standard__', '__deepcopy__', '__delattr__', '__delitem__', '__dict__', '__dir__', '__divmod__', '__doc__', '__eq__', '__finalize__', '__floordiv__', '__format__', '__ge__', '__getattr__', '__getattribute__', '__getitem__', '__getstate__', '__gt__', '__hash__', '__iadd__', '__iand__', '__ifloordiv__', '__imod__', '__imul__', '__init__', '__init_subclass__', '__invert__', '__ior__', '__ipow__', '__isub__', '__iter__', '__itruediv__', '__ixor__', '__le__', '__len__', '__lt__', '__matmul__', '__mod__', '__module__', '__mul__', '__ne__', '__neg__', '__new__', '__nonzero__', '__or__', '__pandas_priority__', '__pos__', '__pow__', '__radd__', '__rand__', '__rdivmod__', '__reduce__', '__reduce_ex__', '__repr__', '__rfloordiv__', '__rmatmul__', '__rmod__', '__rmul__', '__ror__', '__round__', '__rpow__', '__rsub__', '__rtruediv__', '__rxor__', '__setattr__', '__setitem__', '__setstate__', '__sizeof__', '__str__', '__sub__', '__subclasshook__', '__truediv__', '__weakref__', '__xor__', '_accessors', '_accum_func', '_agg_examples_doc', '_agg_see_also_doc', '_align_for_op', '_align_frame', '_align_series', '_append', '_arith_method', '_arith_method_with_reindex', '_as_manager', '_attrs', '_box_col_values', '_can_fast_transpose', '_check_inplace_and_allows_duplicate_labels', '_check_is_chained_assignment_possible', '_check_label_or_level_ambiguity', '_check_setitem_copy', '_clear_item_cache', '_clip_with_one_bound', '_clip_with_scalar', '_cmp_method', '_combine_frame', '_consolidate', '_consolidate_inplace', '_construct_axes_dict', '_construct_result', '_constructor', '_constructor_from_mgr', '_constructor_sliced', '_constructor_sliced_from_mgr', '_create_data_for_split_and_tight_to_dict', '_data', '_deprecate_downcast', '_dir_additions', '_dir_deletions', '_dispatch_frame_op', '_drop_axis', '_drop_labels_or_levels', '_ensure_valid_index', '_find_valid_index', '_flags', '_flex_arith_method', '_flex_cmp_method', '_from_arrays', '_from_mgr', '_get_agg_axis', '_get_axis', '_get_axis_name', '_get_axis_number', '_get_axis_resolvers', '_get_block_manager_axis', '_get_bool_data', '_get_cleaned_column_resolvers', '_get_column_array', '_get_index_resolvers', '_get_item_cache', '_get_label_or_level_values', '_get_numeric_data', '_get_value', '_get_values_for_csv', '_getitem_bool_array', '_getitem_multilevel', '_getitem_nocopy', '_getitem_slice', '_gotitem', '_hidden_attrs', '_indexed_same', '_info_axis', '_info_axis_name', '_info_axis_number', '_info_repr', '_init_mgr', '_inplace_method', '_internal_names', '_internal_names_set', '_is_copy', '_is_homogeneous_type', '_is_label_or_level_reference', '_is_label_reference', '_is_level_reference', '_is_mixed_type', '_is_view', '_is_view_after_cow_rules', '_iset_item', '_iset_item_mgr', '_iset_not_inplace', '_item_cache', '_iter_column_arrays', '_ixs', '_logical_func', '_logical_method', '_maybe_align_series_as_frame', '_maybe_cache_changed', '_maybe_update_cacher', '_metadata', '_mgr', '_min_count_stat_function', '_needs_reindex_multi', '_pad_or_backfill', '_protect_consolidate', '_reduce', '_reduce_axis1', '_reindex_axes', '_reindex_multi', '_reindex_with_indexers', '_rename', '_replace_columnwise', '_repr_data_resource_', '_repr_fits_horizontal_', '_repr_fits_vertical_', '_repr_html_', '_repr_latex_', '_reset_cache', '_reset_cacher', '_sanitize_column', '_series', '_set_axis', '_set_axis_name', '_set_axis_nocheck', '_set_is_copy', '_set_item', '_set_item_frame_value', '_set_item_mgr', '_set_value', '_setitem_array', '_setitem_frame', '_setitem_slice', '_shift_with_freq', '_should_reindex_frame_op', '_slice', '_stat_function', '_stat_function_ddof', '_take_with_is_copy', '_to_dict_of_blocks', '_to_latex_via_styler', '_typ', '_update_inplace', '_validate_dtype', '_values', '_where', 'abs', 'add', 'add_prefix', 'add_suffix', 'agg', 'aggregate', 'align', 'all', 'any', 'apply', 'applymap', 'asfreq', 'asof', 'assign', 'astype', 'at', 'at_time', 'attrs', 'axes', 'backfill', 'between_time', 'bfill', 'bool', 'boxplot', 'city', 'clip', 'columns', 'combine', 'combine_first', 'compare', 'convert_dtypes', 'copy', 'corr', 'corrwith', 'count', 'cov', 'cummax', 'cummin', 'cumprod', 'cumsum', 'describe', 'diff', 'div', 'divide', 'dot', 'drop', 'drop_duplicates', 'droplevel', 'dropna', 'dtypes', 'duplicated', 'empty', 'eq', 'equals', 'eval', 'ewm', 'expanding', 'explode', 'ffill', 'fillna', 'filter', 'first', 'first_valid_index', 'flags', 'floordiv', 'from_dict', 'from_records', 'ge', 'get', 'groupby', 'gt', 'head', 'hist', 'iat', 'idxmax', 'idxmin', 'iloc', 'index', 'infer_objects', 'info', 'insert', 'interpolate', 'isetitem', 'isin', 'isna', 'isnull', 'items', 'iterrows', 'itertuples', 'join', 'keys', 'kurt', 'kurtosis', 'last', 'last_valid_index', 'le', 'loc', 'lt', 'map', 'mask', 'max', 'mean', 'median', 'melt', 'memory_usage', 'merge', 'min', 'mod', 'mode', 'mul', 'multiply', 'ndim', 'ne', 'nlargest', 'notna', 'notnull', 'nsmallest', 'nunique', 'pad', 'pct_change', 'pipe', 'pivot', 'pivot_table', 'plot', 'pop', 'pow', 'prod', 'product', 'quantile', 'query', 'radd', 'rank', 'rdiv', 'reindex', 'reindex_like', 'rename', 'rename_axis', 'reorder_levels', 'replace', 'resample', 'reset_index', 'rfloordiv', 'rmod', 'rmul', 'rolling', 'round', 'rpow', 'rsub', 'rtruediv', 'sample', 'select_dtypes', 'sem', 'set_axis', 'set_flags', 'set_index', 'shape', 'shift', 'size', 'skew', 'sort_index', 'sort_values', 'squeeze', 'stack', 'std', 'style', 'sub', 'subtract', 'sum', 'swapaxes', 'swaplevel', 'tail', 'take', 'to_clipboard', 'to_csv', 'to_dict', 'to_excel', 'to_feather', 'to_gbq', 'to_hdf', 'to_html', 'to_json', 'to_latex', 'to_markdown', 'to_numpy', 'to_orc', 'to_parquet', 'to_period', 'to_pickle', 'to_records', 'to_sql', 'to_stata', 'to_string', 'to_timestamp', 'to_xarray', 'to_xml', 'transform', 'transpose', 'truediv', 'truncate', 'tz_convert', 'tz_localize', 'unstack', 'update', 'value_counts', 'values', 'var', 'where', 'xs']\n",
      "\n",
      "Attributes:\n",
      "df.columns  -> Returns the column labels of the DataFrame\n",
      "df.index    -> Returns the row index labels of the DataFrame\n",
      "df.dtypes   -> Returns the data types of each column\n",
      "df.shape    -> Returns a tuple representing the dimensionality (rows, columns)\n",
      "df.size     -> Returns the number of elements in the DataFrame\n",
      "df.values   -> Returns the DataFrame as a numpy array\n",
      "\n",
      "Methods:\n",
      "df.head()       -> Returns the first 5 rows of the DataFrame\n",
      "df.tail()       -> Returns the last 5 rows of the DataFrame\n",
      "df.info()       -> Prints a concise summary of the DataFrame\n",
      "df.describe()   -> Generates descriptive statistics\n",
      "df.T            -> Transposes the DataFrame\n",
      "df.sort_values() -> Sorts by the values along either axis\n",
      "df.groupby()    -> Groups data using a mapper or by a Series of columns\n",
      "df.drop()       -> Removes rows or columns\n",
      "df.copy()       -> Returns a copy of the DataFrame\n",
      "df.isnull()     -> Detects missing values\n",
      "df.fillna()     -> Fills NA/NaN values\n",
      "df.apply()      -> Applies a function along an axis of the DataFrame\n",
      "df.to_numpy()   -> Converts the DataFrame to a NumPy array\n",
      "df.to_dict()    -> Converts the DataFrame to a dictionary\n",
      "df.to_csv()     -> Writes the DataFrame to a CSV file\n"
     ]
    }
   ],
   "source": [
    "# Some Attributes and methods of Dataframe \n",
    "\n",
    "# Display all attributes and methods of DataFrame\n",
    "print(dir(df))\n",
    "\n",
    "# Commonly used attributes and methods with explanations:\n",
    "\n",
    "# Attributes:\n",
    "print(\"\\nAttributes:\")\n",
    "\n",
    "print(\"df.columns  -> Returns the column labels of the DataFrame\")\n",
    "print(\"df.index    -> Returns the row index labels of the DataFrame\")\n",
    "print(\"df.dtypes   -> Returns the data types of each column\")\n",
    "print(\"df.shape    -> Returns a tuple representing the dimensionality (rows, columns)\")\n",
    "print(\"df.size     -> Returns the number of elements in the DataFrame\")\n",
    "print(\"df.values   -> Returns the DataFrame as a numpy array\")\n",
    "\n",
    "# Methods:\n",
    "print(\"\\nMethods:\")\n",
    "print(\"df.head()       -> Returns the first 5 rows of the DataFrame\")\n",
    "print(\"df.tail()       -> Returns the last 5 rows of the DataFrame\")\n",
    "print(\"df.info()       -> Prints a concise summary of the DataFrame \")\n",
    "print(\"df.describe()   -> Generates descriptive statistics only for numeric columns\")\n",
    "print('df.describe(include='all') -> Generates the descriptive statistics for all columns including non-numeric ones')\n",
    "print(\"df.T            -> Transposes the DataFrame\")\n",
    "print(\"df.sort_values() -> Sorts by the values along either axis\")\n",
    "print(\"df.groupby()    -> Groups data using a mapper or by a Series of columns\")\n",
    "print(\"df.drop()       -> Removes rows or columns\")\n",
    "print(\"df.copy()       -> Returns a copy of the DataFrame\")\n",
    "print(\"df.isnull()     -> Detects missing values\")\n",
    "print(\"df.fillna()     -> Fills NA/NaN values\")\n",
    "print(\"df.apply()      -> Applies a function along an axis of the DataFrame\")\n",
    "print(\"df.to_numpy()   -> Converts the DataFrame to a NumPy array\")\n",
    "print(\"df.to_dict()    -> Converts the DataFrame to a dictionary\")\n",
    "print(\"df.to_csv()     -> Writes the DataFrame to a CSV file\")"
   ]
  },
  {
   "cell_type": "code",
   "execution_count": null,
   "id": "c50e3440",
   "metadata": {},
   "outputs": [
    {
     "ename": "ValueError",
     "evalue": "Length of values (3) does not match length of index (154)",
     "output_type": "error",
     "traceback": [
      "\u001b[31m---------------------------------------------------------------------------\u001b[39m",
      "\u001b[31mValueError\u001b[39m                                Traceback (most recent call last)",
      "\u001b[36mCell\u001b[39m\u001b[36m \u001b[39m\u001b[32mIn[77]\u001b[39m\u001b[32m, line 3\u001b[39m\n\u001b[32m      1\u001b[39m \u001b[38;5;66;03m#Adding new Columns to Dataframe\u001b[39;00m\n\u001b[32m----> \u001b[39m\u001b[32m3\u001b[39m \u001b[43mdf\u001b[49m\u001b[43m[\u001b[49m\u001b[33;43m'\u001b[39;49m\u001b[33;43msalary\u001b[39;49m\u001b[33;43m'\u001b[39;49m\u001b[43m]\u001b[49m=[\u001b[32m50000\u001b[39m,\u001b[32m60000\u001b[39m,\u001b[32m80000\u001b[39m]\n\u001b[32m      4\u001b[39m \u001b[38;5;28mprint\u001b[39m(df)\n\u001b[32m      6\u001b[39m \u001b[38;5;66;03m#Removing a column from Dataframe\u001b[39;00m\n\u001b[32m      7\u001b[39m \n\u001b[32m      8\u001b[39m \u001b[38;5;66;03m# df.drop('salary')  This will gives error as its going to check row wise and not column wise so we need to specify axis=1\u001b[39;00m\n",
      "\u001b[36mFile \u001b[39m\u001b[32m~/.local/lib/python3.12/site-packages/pandas/core/frame.py:4316\u001b[39m, in \u001b[36mDataFrame.__setitem__\u001b[39m\u001b[34m(self, key, value)\u001b[39m\n\u001b[32m   4313\u001b[39m     \u001b[38;5;28mself\u001b[39m._setitem_array([key], value)\n\u001b[32m   4314\u001b[39m \u001b[38;5;28;01melse\u001b[39;00m:\n\u001b[32m   4315\u001b[39m     \u001b[38;5;66;03m# set column\u001b[39;00m\n\u001b[32m-> \u001b[39m\u001b[32m4316\u001b[39m     \u001b[38;5;28;43mself\u001b[39;49m\u001b[43m.\u001b[49m\u001b[43m_set_item\u001b[49m\u001b[43m(\u001b[49m\u001b[43mkey\u001b[49m\u001b[43m,\u001b[49m\u001b[43m \u001b[49m\u001b[43mvalue\u001b[49m\u001b[43m)\u001b[49m\n",
      "\u001b[36mFile \u001b[39m\u001b[32m~/.local/lib/python3.12/site-packages/pandas/core/frame.py:4529\u001b[39m, in \u001b[36mDataFrame._set_item\u001b[39m\u001b[34m(self, key, value)\u001b[39m\n\u001b[32m   4519\u001b[39m \u001b[38;5;28;01mdef\u001b[39;00m\u001b[38;5;250m \u001b[39m\u001b[34m_set_item\u001b[39m(\u001b[38;5;28mself\u001b[39m, key, value) -> \u001b[38;5;28;01mNone\u001b[39;00m:\n\u001b[32m   4520\u001b[39m \u001b[38;5;250m    \u001b[39m\u001b[33;03m\"\"\"\u001b[39;00m\n\u001b[32m   4521\u001b[39m \u001b[33;03m    Add series to DataFrame in specified column.\u001b[39;00m\n\u001b[32m   4522\u001b[39m \n\u001b[32m   (...)\u001b[39m\u001b[32m   4527\u001b[39m \u001b[33;03m    ensure homogeneity.\u001b[39;00m\n\u001b[32m   4528\u001b[39m \u001b[33;03m    \"\"\"\u001b[39;00m\n\u001b[32m-> \u001b[39m\u001b[32m4529\u001b[39m     value, refs = \u001b[38;5;28;43mself\u001b[39;49m\u001b[43m.\u001b[49m\u001b[43m_sanitize_column\u001b[49m\u001b[43m(\u001b[49m\u001b[43mvalue\u001b[49m\u001b[43m)\u001b[49m\n\u001b[32m   4531\u001b[39m     \u001b[38;5;28;01mif\u001b[39;00m (\n\u001b[32m   4532\u001b[39m         key \u001b[38;5;129;01min\u001b[39;00m \u001b[38;5;28mself\u001b[39m.columns\n\u001b[32m   4533\u001b[39m         \u001b[38;5;129;01mand\u001b[39;00m value.ndim == \u001b[32m1\u001b[39m\n\u001b[32m   4534\u001b[39m         \u001b[38;5;129;01mand\u001b[39;00m \u001b[38;5;129;01mnot\u001b[39;00m \u001b[38;5;28misinstance\u001b[39m(value.dtype, ExtensionDtype)\n\u001b[32m   4535\u001b[39m     ):\n\u001b[32m   4536\u001b[39m         \u001b[38;5;66;03m# broadcast across multiple columns if necessary\u001b[39;00m\n\u001b[32m   4537\u001b[39m         \u001b[38;5;28;01mif\u001b[39;00m \u001b[38;5;129;01mnot\u001b[39;00m \u001b[38;5;28mself\u001b[39m.columns.is_unique \u001b[38;5;129;01mor\u001b[39;00m \u001b[38;5;28misinstance\u001b[39m(\u001b[38;5;28mself\u001b[39m.columns, MultiIndex):\n",
      "\u001b[36mFile \u001b[39m\u001b[32m~/.local/lib/python3.12/site-packages/pandas/core/frame.py:5273\u001b[39m, in \u001b[36mDataFrame._sanitize_column\u001b[39m\u001b[34m(self, value)\u001b[39m\n\u001b[32m   5270\u001b[39m     \u001b[38;5;28;01mreturn\u001b[39;00m _reindex_for_setitem(value, \u001b[38;5;28mself\u001b[39m.index)\n\u001b[32m   5272\u001b[39m \u001b[38;5;28;01mif\u001b[39;00m is_list_like(value):\n\u001b[32m-> \u001b[39m\u001b[32m5273\u001b[39m     \u001b[43mcom\u001b[49m\u001b[43m.\u001b[49m\u001b[43mrequire_length_match\u001b[49m\u001b[43m(\u001b[49m\u001b[43mvalue\u001b[49m\u001b[43m,\u001b[49m\u001b[43m \u001b[49m\u001b[38;5;28;43mself\u001b[39;49m\u001b[43m.\u001b[49m\u001b[43mindex\u001b[49m\u001b[43m)\u001b[49m\n\u001b[32m   5274\u001b[39m arr = sanitize_array(value, \u001b[38;5;28mself\u001b[39m.index, copy=\u001b[38;5;28;01mTrue\u001b[39;00m, allow_2d=\u001b[38;5;28;01mTrue\u001b[39;00m)\n\u001b[32m   5275\u001b[39m \u001b[38;5;28;01mif\u001b[39;00m (\n\u001b[32m   5276\u001b[39m     \u001b[38;5;28misinstance\u001b[39m(value, Index)\n\u001b[32m   5277\u001b[39m     \u001b[38;5;129;01mand\u001b[39;00m value.dtype == \u001b[33m\"\u001b[39m\u001b[33mobject\u001b[39m\u001b[33m\"\u001b[39m\n\u001b[32m   (...)\u001b[39m\u001b[32m   5280\u001b[39m     \u001b[38;5;66;03m# TODO: Remove kludge in sanitize_array for string mode when enforcing\u001b[39;00m\n\u001b[32m   5281\u001b[39m     \u001b[38;5;66;03m# this deprecation\u001b[39;00m\n",
      "\u001b[36mFile \u001b[39m\u001b[32m~/.local/lib/python3.12/site-packages/pandas/core/common.py:573\u001b[39m, in \u001b[36mrequire_length_match\u001b[39m\u001b[34m(data, index)\u001b[39m\n\u001b[32m    569\u001b[39m \u001b[38;5;250m\u001b[39m\u001b[33;03m\"\"\"\u001b[39;00m\n\u001b[32m    570\u001b[39m \u001b[33;03mCheck the length of data matches the length of the index.\u001b[39;00m\n\u001b[32m    571\u001b[39m \u001b[33;03m\"\"\"\u001b[39;00m\n\u001b[32m    572\u001b[39m \u001b[38;5;28;01mif\u001b[39;00m \u001b[38;5;28mlen\u001b[39m(data) != \u001b[38;5;28mlen\u001b[39m(index):\n\u001b[32m--> \u001b[39m\u001b[32m573\u001b[39m     \u001b[38;5;28;01mraise\u001b[39;00m \u001b[38;5;167;01mValueError\u001b[39;00m(\n\u001b[32m    574\u001b[39m         \u001b[33m\"\u001b[39m\u001b[33mLength of values \u001b[39m\u001b[33m\"\u001b[39m\n\u001b[32m    575\u001b[39m         \u001b[33mf\u001b[39m\u001b[33m\"\u001b[39m\u001b[33m(\u001b[39m\u001b[38;5;132;01m{\u001b[39;00m\u001b[38;5;28mlen\u001b[39m(data)\u001b[38;5;132;01m}\u001b[39;00m\u001b[33m) \u001b[39m\u001b[33m\"\u001b[39m\n\u001b[32m    576\u001b[39m         \u001b[33m\"\u001b[39m\u001b[33mdoes not match length of index \u001b[39m\u001b[33m\"\u001b[39m\n\u001b[32m    577\u001b[39m         \u001b[33mf\u001b[39m\u001b[33m\"\u001b[39m\u001b[33m(\u001b[39m\u001b[38;5;132;01m{\u001b[39;00m\u001b[38;5;28mlen\u001b[39m(index)\u001b[38;5;132;01m}\u001b[39;00m\u001b[33m)\u001b[39m\u001b[33m\"\u001b[39m\n\u001b[32m    578\u001b[39m     )\n",
      "\u001b[31mValueError\u001b[39m: Length of values (3) does not match length of index (154)"
     ]
    }
   ],
   "source": [
    "#Adding new Columns to Dataframe\n",
    "\n",
    "df['salary']=[50000,60000,80000]\n",
    "print(df)\n",
    "\n",
    "#Removing a column from Dataframe\n",
    "\n",
    "# df.drop('salary')  This will gives error as its going to check row wise and not column wise so we need to specify axis=1\n",
    "df.drop('salary',axis=1)  #This will remove the 'salary column from data frame\n",
    "print(df)  # But when we print df , still salary column is present since df.drop() is not a permanant operation by default so we give inplace=True\n",
    "\n",
    "df.drop('salary',axis=1,inplace=True)  #permantantly removing the column\n",
    "print(\"dataframe without salary column\\n\",df)"
   ]
  },
  {
   "cell_type": "code",
   "execution_count": null,
   "id": "78780ca9",
   "metadata": {},
   "outputs": [
    {
     "name": "stdout",
     "output_type": "stream",
     "text": [
      "    Name  Age      city\n",
      "1  Krish   32  Gurugram\n",
      "2   Ravi   45    Mysuru\n"
     ]
    }
   ],
   "source": [
    "#Drop rows from Dataframe \n",
    "df.drop(1)  #this will drop the first row fron df \n",
    "print(df)   #still this is not a permanant operation so we need to give inplace=True\n",
    "df.drop(1,inplace=True)\n",
    "print(df)"
   ]
  },
  {
   "cell_type": "markdown",
   "id": "9c9f1769",
   "metadata": {},
   "source": [
    "Reading Data from Dataset"
   ]
  },
  {
   "cell_type": "code",
   "execution_count": 65,
   "id": "38eb1f26",
   "metadata": {},
   "outputs": [
    {
     "name": "stdout",
     "output_type": "stream",
     "text": [
      "  product.partNumber location.locationIdentifier inventoryType  quantity  \\\n",
      "0         PS-SL-A287                        LT-1       PRODUCT        25   \n",
      "1         PS-SL-A288                        LT-1       PRODUCT        20   \n",
      "2         PS-SL-H309                        LT-1       PRODUCT         3   \n",
      "3         PS-SL-H310                        LT-1       PRODUCT        35   \n",
      "4         PS-SL-F342                        LT-1       PRODUCT        43   \n",
      "\n",
      "  quantityUnits    value valueCurrency  reservationOrders  daysOfSupply  \\\n",
      "0            EA  31250.0           USD                  2            19   \n",
      "1            EA  25000.0           USD                  2            35   \n",
      "2            EA   3750.0           USD                  2            14   \n",
      "3            EA  43750.0           USD                  2            16   \n",
      "4            EA  53750.0           USD                  2            42   \n",
      "\n",
      "   shelfLife  ...  quantityUpperThreshold  quantityLowerThreshold  \\\n",
      "0        365  ...                     100                      10   \n",
      "1        365  ...                     100                      10   \n",
      "2        365  ...                     100                      10   \n",
      "3        365  ...                     100                      10   \n",
      "4        365  ...                     100                      10   \n",
      "\n",
      "   daysOfSupplyUpperThreshold  daysOfSupplyLowerThreshold  expiringThreshold  \\\n",
      "0                          30                          10                NaN   \n",
      "1                          30                          10                NaN   \n",
      "2                          30                          10                NaN   \n",
      "3                          30                          10                NaN   \n",
      "4                          30                          10                NaN   \n",
      "\n",
      "       plannerCode  velocityCode inventoryParentType class     segment  \n",
      "0  Street Lighting             B              ONHAND   NEW  INDUSTRIAL  \n",
      "1  Street Lighting             B              ONHAND   NEW  INDUSTRIAL  \n",
      "2  Street Lighting             B              ONHAND   NEW  INDUSTRIAL  \n",
      "3  Street Lighting             A              ONHAND   NEW  INDUSTRIAL  \n",
      "4  Street Lighting             A              ONHAND   NEW  INDUSTRIAL  \n",
      "\n",
      "[5 rows x 22 columns]\n"
     ]
    }
   ],
   "source": [
    "#Reading data from CSV file\n",
    "\n",
    "df=pd.read_csv('sample.csv')\n",
    "print(df.head())  #displaying first 5 rows of dataframe"
   ]
  },
  {
   "cell_type": "markdown",
   "id": "2deb2c52",
   "metadata": {},
   "source": [
    "Handling Missing Values"
   ]
  },
  {
   "cell_type": "code",
   "execution_count": 66,
   "id": "fb78dbd8",
   "metadata": {},
   "outputs": [
    {
     "name": "stdout",
     "output_type": "stream",
     "text": [
      "     product.partNumber  location.locationIdentifier  inventoryType  quantity  \\\n",
      "0                 False                        False          False     False   \n",
      "1                 False                        False          False     False   \n",
      "2                 False                        False          False     False   \n",
      "3                 False                        False          False     False   \n",
      "4                 False                        False          False     False   \n",
      "..                  ...                          ...            ...       ...   \n",
      "149               False                        False          False     False   \n",
      "150               False                        False          False     False   \n",
      "151               False                        False          False     False   \n",
      "152               False                        False          False     False   \n",
      "153               False                        False          False     False   \n",
      "\n",
      "     quantityUnits  value  valueCurrency  reservationOrders  daysOfSupply  \\\n",
      "0            False  False          False              False         False   \n",
      "1            False  False          False              False         False   \n",
      "2            False  False          False              False         False   \n",
      "3            False  False          False              False         False   \n",
      "4            False  False          False              False         False   \n",
      "..             ...    ...            ...                ...           ...   \n",
      "149          False  False          False              False         False   \n",
      "150          False  False          False              False         False   \n",
      "151          False  False          False              False         False   \n",
      "152          False  False          False              False         False   \n",
      "153          False  False          False              False         False   \n",
      "\n",
      "     shelfLife  ...  quantityUpperThreshold  quantityLowerThreshold  \\\n",
      "0        False  ...                   False                   False   \n",
      "1        False  ...                   False                   False   \n",
      "2        False  ...                   False                   False   \n",
      "3        False  ...                   False                   False   \n",
      "4        False  ...                   False                   False   \n",
      "..         ...  ...                     ...                     ...   \n",
      "149      False  ...                   False                   False   \n",
      "150      False  ...                   False                   False   \n",
      "151      False  ...                   False                   False   \n",
      "152      False  ...                   False                   False   \n",
      "153      False  ...                   False                   False   \n",
      "\n",
      "     daysOfSupplyUpperThreshold  daysOfSupplyLowerThreshold  \\\n",
      "0                         False                       False   \n",
      "1                         False                       False   \n",
      "2                         False                       False   \n",
      "3                         False                       False   \n",
      "4                         False                       False   \n",
      "..                          ...                         ...   \n",
      "149                       False                       False   \n",
      "150                       False                       False   \n",
      "151                       False                       False   \n",
      "152                       False                       False   \n",
      "153                       False                       False   \n",
      "\n",
      "     expiringThreshold  plannerCode  velocityCode  inventoryParentType  class  \\\n",
      "0                 True        False         False                False  False   \n",
      "1                 True        False         False                False  False   \n",
      "2                 True        False         False                False  False   \n",
      "3                 True        False         False                False  False   \n",
      "4                 True        False         False                False  False   \n",
      "..                 ...          ...           ...                  ...    ...   \n",
      "149               True        False         False                False  False   \n",
      "150               True        False         False                False  False   \n",
      "151               True        False         False                False  False   \n",
      "152               True        False         False                False  False   \n",
      "153               True        False         False                False  False   \n",
      "\n",
      "     segment  \n",
      "0      False  \n",
      "1      False  \n",
      "2      False  \n",
      "3      False  \n",
      "4      False  \n",
      "..       ...  \n",
      "149     True  \n",
      "150     True  \n",
      "151     True  \n",
      "152     True  \n",
      "153     True  \n",
      "\n",
      "[154 rows x 22 columns]\n"
     ]
    }
   ],
   "source": [
    "\n",
    "#Checking for missing values\n",
    "\n",
    "print(df.isnull())  #this will return a dataframe with boolean values - True if values are missing and False if Values are present"
   ]
  },
  {
   "cell_type": "code",
   "execution_count": 67,
   "id": "278e48a7",
   "metadata": {},
   "outputs": [
    {
     "name": "stdout",
     "output_type": "stream",
     "text": [
      "product.partNumber               0\n",
      "location.locationIdentifier      0\n",
      "inventoryType                    0\n",
      "quantity                         0\n",
      "quantityUnits                    0\n",
      "value                            0\n",
      "valueCurrency                    0\n",
      "reservationOrders                0\n",
      "daysOfSupply                     0\n",
      "shelfLife                        0\n",
      "reorderLevel                     0\n",
      "expectedLeadTime                 0\n",
      "quantityUpperThreshold           0\n",
      "quantityLowerThreshold           0\n",
      "daysOfSupplyUpperThreshold       0\n",
      "daysOfSupplyLowerThreshold       0\n",
      "expiringThreshold              154\n",
      "plannerCode                      0\n",
      "velocityCode                     0\n",
      "inventoryParentType              0\n",
      "class                            0\n",
      "segment                         76\n",
      "dtype: int64\n"
     ]
    }
   ],
   "source": [
    "#Calculating the sum of missing values in each column\n",
    "print(df.isnull().sum())"
   ]
  },
  {
   "cell_type": "code",
   "execution_count": 68,
   "id": "9aadbf05",
   "metadata": {},
   "outputs": [
    {
     "name": "stdout",
     "output_type": "stream",
     "text": [
      "product.partNumber             False\n",
      "location.locationIdentifier    False\n",
      "inventoryType                  False\n",
      "quantity                       False\n",
      "quantityUnits                  False\n",
      "value                          False\n",
      "valueCurrency                  False\n",
      "reservationOrders              False\n",
      "daysOfSupply                   False\n",
      "shelfLife                      False\n",
      "reorderLevel                   False\n",
      "expectedLeadTime               False\n",
      "quantityUpperThreshold         False\n",
      "quantityLowerThreshold         False\n",
      "daysOfSupplyUpperThreshold     False\n",
      "daysOfSupplyLowerThreshold     False\n",
      "expiringThreshold               True\n",
      "plannerCode                    False\n",
      "velocityCode                   False\n",
      "inventoryParentType            False\n",
      "class                          False\n",
      "segment                         True\n",
      "dtype: bool\n"
     ]
    }
   ],
   "source": [
    "print(df.isnull().any(axis=0)) #This will return True if any values is missing in the column and False if all values are present\n"
   ]
  },
  {
   "cell_type": "code",
   "execution_count": 69,
   "id": "edc3d0f2",
   "metadata": {},
   "outputs": [
    {
     "name": "stdout",
     "output_type": "stream",
     "text": [
      "None\n",
      "    product.partNumber location.locationIdentifier inventoryType  quantity  \\\n",
      "0           PS-SL-A287                        LT-1       PRODUCT        25   \n",
      "1           PS-SL-A288                        LT-1       PRODUCT        20   \n",
      "2           PS-SL-H309                        LT-1       PRODUCT         3   \n",
      "3           PS-SL-H310                        LT-1       PRODUCT        35   \n",
      "4           PS-SL-F342                        LT-1       PRODUCT        43   \n",
      "..                 ...                         ...           ...       ...   \n",
      "149           83600200                        LT-2          ITEM       118   \n",
      "150           83600300                        LT-2          ITEM       323   \n",
      "151            9664145                        LT-2          ITEM       273   \n",
      "152            9664146                        LT-2          ITEM       259   \n",
      "153            9664147                        LT-2          ITEM        27   \n",
      "\n",
      "    quantityUnits     value valueCurrency  reservationOrders  daysOfSupply  \\\n",
      "0              EA   31250.0           USD                  2            19   \n",
      "1              EA   25000.0           USD                  2            35   \n",
      "2              EA    3750.0           USD                  2            14   \n",
      "3              EA   43750.0           USD                  2            16   \n",
      "4              EA   53750.0           USD                  2            42   \n",
      "..            ...       ...           ...                ...           ...   \n",
      "149            EA  151866.0           USD                  0            41   \n",
      "150            EA  470288.0           USD                  0            44   \n",
      "151            EA  227409.0           USD                  0            27   \n",
      "152            EA  267288.0           USD                  0            42   \n",
      "153            EA   26352.0           USD                  0            56   \n",
      "\n",
      "     shelfLife  ...  quantityUpperThreshold  quantityLowerThreshold  \\\n",
      "0          365  ...                     100                      10   \n",
      "1          365  ...                     100                      10   \n",
      "2          365  ...                     100                      10   \n",
      "3          365  ...                     100                      10   \n",
      "4          365  ...                     100                      10   \n",
      "..         ...  ...                     ...                     ...   \n",
      "149        365  ...                     400                     100   \n",
      "150        365  ...                     400                     100   \n",
      "151        365  ...                     400                     100   \n",
      "152        365  ...                     400                     100   \n",
      "153        365  ...                     400                     100   \n",
      "\n",
      "     daysOfSupplyUpperThreshold  daysOfSupplyLowerThreshold  \\\n",
      "0                            30                          10   \n",
      "1                            30                          10   \n",
      "2                            30                          10   \n",
      "3                            30                          10   \n",
      "4                            30                          10   \n",
      "..                          ...                         ...   \n",
      "149                          30                          10   \n",
      "150                          30                          10   \n",
      "151                          30                          10   \n",
      "152                          30                          10   \n",
      "153                          30                          10   \n",
      "\n",
      "     expiringThreshold         plannerCode  velocityCode inventoryParentType  \\\n",
      "0                  0.0     Street Lighting             B              ONHAND   \n",
      "1                  0.0     Street Lighting             B              ONHAND   \n",
      "2                  0.0     Street Lighting             B              ONHAND   \n",
      "3                  0.0     Street Lighting             A              ONHAND   \n",
      "4                  0.0     Street Lighting             A              ONHAND   \n",
      "..                 ...                 ...           ...                 ...   \n",
      "149                0.0  Primary Foundation            C               ONHAND   \n",
      "150                0.0  Primary Foundation            C               ONHAND   \n",
      "151                0.0   Secondary Chassis            C               ONHAND   \n",
      "152                0.0   Secondary Chassis            A               ONHAND   \n",
      "153                0.0   Secondary Chassis            A               ONHAND   \n",
      "\n",
      "    class     segment  \n",
      "0     NEW  INDUSTRIAL  \n",
      "1     NEW  INDUSTRIAL  \n",
      "2     NEW  INDUSTRIAL  \n",
      "3     NEW  INDUSTRIAL  \n",
      "4     NEW  INDUSTRIAL  \n",
      "..    ...         ...  \n",
      "149   NEW           0  \n",
      "150   NEW           0  \n",
      "151   NEW           0  \n",
      "152   NEW           0  \n",
      "153   NEW           0  \n",
      "\n",
      "[154 rows x 22 columns]\n"
     ]
    }
   ],
   "source": [
    "#Filling missing Values\n",
    "\n",
    "#Filling missing values with a specific value\n",
    "\n",
    "# 1) Filling missing values with 0 \n",
    "print(df.fillna(0,inplace=True))  #This will fill all the missing values with 0 and make it a permanant operation\n",
    "print(df)\n",
    "\n"
   ]
  },
  {
   "cell_type": "code",
   "execution_count": null,
   "id": "9ea5d66d",
   "metadata": {},
   "outputs": [
    {
     "name": "stdout",
     "output_type": "stream",
     "text": [
      "0      False\n",
      "1      False\n",
      "2      False\n",
      "3      False\n",
      "4      False\n",
      "       ...  \n",
      "149    False\n",
      "150    False\n",
      "151    False\n",
      "152    False\n",
      "153    False\n",
      "Name: expiringThreshold, Length: 154, dtype: bool\n"
     ]
    }
   ],
   "source": [
    "# 2) Filling missing values with mean of the column \n",
    "\n",
    "# print(df.head())\n",
    "df['expiringThreshold']=df['expiringThreshold'].fillna(df['expiringThreshold'].mean())\n",
    "#fill the missing values in 'exploringthreshold column with mean of the column\n",
    "\n",
    "print(df['expiringThreshold'])\n",
    "print(df['expiringThreshold'].isnull()) #checking for any missing value still\n",
    "\n",
    "\n"
   ]
  },
  {
   "cell_type": "code",
   "execution_count": null,
   "id": "63886eda",
   "metadata": {},
   "outputs": [
    {
     "name": "stdout",
     "output_type": "stream",
     "text": [
      "0      3.0\n",
      "1      3.0\n",
      "2      3.0\n",
      "3      3.0\n",
      "4      3.0\n",
      "      ... \n",
      "149    3.0\n",
      "150    3.0\n",
      "151    3.0\n",
      "152    3.0\n",
      "153    3.0\n",
      "Name: expiringThreshold, Length: 154, dtype: float64\n"
     ]
    }
   ],
   "source": [
    "#Applying a function to a Dataframe\n",
    "\n",
    "df['expiringThreshold']=df['expiringThreshold'].apply(lambda x:x+1)\n",
    "print(df['expiringThreshold'])\n",
    "\n",
    "def add_one(x):\n",
    "    return x+1\n",
    "\n",
    "df['expiringthreshold']=df['expiringThreshold'].apply(add_one)\n",
    "\n",
    "\n"
   ]
  }
 ],
 "metadata": {
  "kernelspec": {
   "display_name": "Python 3",
   "language": "python",
   "name": "python3"
  },
  "language_info": {
   "codemirror_mode": {
    "name": "ipython",
    "version": 3
   },
   "file_extension": ".py",
   "mimetype": "text/x-python",
   "name": "python",
   "nbconvert_exporter": "python",
   "pygments_lexer": "ipython3",
   "version": "3.12.1"
  }
 },
 "nbformat": 4,
 "nbformat_minor": 5
}
